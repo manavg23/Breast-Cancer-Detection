{
  "cells": [
    {
      "cell_type": "code",
      "execution_count": 1,
      "metadata": {
        "id": "ykgkT8riKZRb"
      },
      "outputs": [],
      "source": [
        "import numpy as np\n",
        "import keras\n",
        "import seaborn as sns\n",
        "import pandas as pd\n",
        "import matplotlib.pyplot as plt\n",
        "import cv2\n",
        "import seaborn as sns\n",
        "from tensorflow.keras.preprocessing.image import ImageDataGenerator\n",
        "from sklearn.preprocessing import LabelEncoder\n",
        "import albumentations as A\n",
        "from tensorflow.keras.utils import Sequence\n",
        "from sklearn.model_selection import train_test_split\n",
        "import cv2\n",
        "# from google.colab.patches import cv2_imshow\n",
        "import skimage.exposure\n",
        "import os"
      ]
    },
    {
      "cell_type": "code",
      "execution_count": 2,
      "metadata": {
        "id": "m6as12EOK_py"
      },
      "outputs": [
        {
          "name": "stderr",
          "output_type": "stream",
          "text": [
            "'unzip' is not recognized as an internal or external command,\n",
            "operable program or batch file.\n"
          ]
        }
      ],
      "source": [
        "!unzip \"/Users/Manav/Downloads/mammography_images.zip\""
      ]
    },
    {
      "cell_type": "code",
      "execution_count": 4,
      "metadata": {
        "id": "6i7A8FR7LJea"
      },
      "outputs": [],
      "source": [
        "train=pd.read_csv(\"/Users/Manav/Downloads/mammography_images/mammography_images/Training_set.csv\")\n",
        "test=pd.read_csv(\"/Users/Manav/Downloads/mammography_images/mammography_images/Testing_set.csv\")\n",
        "sub=pd.read_csv(\"/Users/Manav/Downloads/mammography_images/mammography_images/sample_submission.csv\")"
      ]
    },
    {
      "cell_type": "code",
      "execution_count": 5,
      "metadata": {
        "colab": {
          "base_uri": "https://localhost:8080/",
          "height": 195
        },
        "id": "ewk47YVXMvsQ",
        "outputId": "e0a918bd-9372-4708-df9d-5f0ee9dd9c99"
      },
      "outputs": [
        {
          "data": {
            "text/html": [
              "<div>\n",
              "<style scoped>\n",
              "    .dataframe tbody tr th:only-of-type {\n",
              "        vertical-align: middle;\n",
              "    }\n",
              "\n",
              "    .dataframe tbody tr th {\n",
              "        vertical-align: top;\n",
              "    }\n",
              "\n",
              "    .dataframe thead th {\n",
              "        text-align: right;\n",
              "    }\n",
              "</style>\n",
              "<table border=\"1\" class=\"dataframe\">\n",
              "  <thead>\n",
              "    <tr style=\"text-align: right;\">\n",
              "      <th></th>\n",
              "      <th>filename</th>\n",
              "      <th>label</th>\n",
              "    </tr>\n",
              "  </thead>\n",
              "  <tbody>\n",
              "    <tr>\n",
              "      <th>0</th>\n",
              "      <td>Image_1.jpg</td>\n",
              "      <td>Density3Benign</td>\n",
              "    </tr>\n",
              "    <tr>\n",
              "      <th>1</th>\n",
              "      <td>Image_2.jpg</td>\n",
              "      <td>Density1Benign</td>\n",
              "    </tr>\n",
              "    <tr>\n",
              "      <th>2</th>\n",
              "      <td>Image_3.jpg</td>\n",
              "      <td>Density1Malignant</td>\n",
              "    </tr>\n",
              "    <tr>\n",
              "      <th>3</th>\n",
              "      <td>Image_4.jpg</td>\n",
              "      <td>Density1Benign</td>\n",
              "    </tr>\n",
              "    <tr>\n",
              "      <th>4</th>\n",
              "      <td>Image_5.jpg</td>\n",
              "      <td>Density1Malignant</td>\n",
              "    </tr>\n",
              "  </tbody>\n",
              "</table>\n",
              "</div>"
            ],
            "text/plain": [
              "      filename              label\n",
              "0  Image_1.jpg     Density3Benign\n",
              "1  Image_2.jpg     Density1Benign\n",
              "2  Image_3.jpg  Density1Malignant\n",
              "3  Image_4.jpg     Density1Benign\n",
              "4  Image_5.jpg  Density1Malignant"
            ]
          },
          "execution_count": 5,
          "metadata": {},
          "output_type": "execute_result"
        }
      ],
      "source": [
        "train.head()"
      ]
    },
    {
      "cell_type": "code",
      "execution_count": 6,
      "metadata": {
        "colab": {
          "base_uri": "https://localhost:8080/"
        },
        "id": "Uh2yi0HZRouP",
        "outputId": "0cf93589-7195-4211-9f21-677d1dc6e11f"
      },
      "outputs": [
        {
          "name": "stdout",
          "output_type": "stream",
          "text": [
            "len of training set 55\n",
            "len of testing set 1908\n"
          ]
        }
      ],
      "source": [
        "print(\"len of training set\", len(train))\n",
        "print(\"len of testing set\", len(test))"
      ]
    },
    {
      "cell_type": "code",
      "execution_count": 7,
      "metadata": {
        "colab": {
          "base_uri": "https://localhost:8080/"
        },
        "id": "1EE-XpALLdc3",
        "outputId": "f94b2b58-3205-424c-9461-c8c84ead3be8"
      },
      "outputs": [
        {
          "data": {
            "text/plain": [
              "Density1Malignant    20\n",
              "Density2Malignant    14\n",
              "Density3Benign        9\n",
              "Density1Benign        6\n",
              "Density3Malignant     4\n",
              "Density4Benign        2\n",
              "Name: label, dtype: int64"
            ]
          },
          "execution_count": 7,
          "metadata": {},
          "output_type": "execute_result"
        }
      ],
      "source": [
        "(train[\"label\"].value_counts())"
      ]
    },
    {
      "cell_type": "code",
      "execution_count": 8,
      "metadata": {
        "colab": {
          "base_uri": "https://localhost:8080/",
          "height": 342
        },
        "id": "IeyjXGUOLelK",
        "outputId": "b003dc89-4dec-4827-ccc5-06abb6a05c6f"
      },
      "outputs": [
        {
          "data": {
            "text/plain": [
              "(array([0, 1, 2, 3, 4, 5]),\n",
              " [Text(0, 0, 'Density3Benign'),\n",
              "  Text(1, 0, 'Density1Benign'),\n",
              "  Text(2, 0, 'Density1Malignant'),\n",
              "  Text(3, 0, 'Density4Benign'),\n",
              "  Text(4, 0, 'Density2Malignant'),\n",
              "  Text(5, 0, 'Density3Malignant')])"
            ]
          },
          "execution_count": 8,
          "metadata": {},
          "output_type": "execute_result"
        },
        {
          "data": {
            "image/png": "[encoded data removed]",
            "text/plain": [
              "<Figure size 1200x400 with 1 Axes>"
            ]
          },
          "metadata": {},
          "output_type": "display_data"
        }
      ],
      "source": [
        "plt.figure(figsize=(12,4))\n",
        "sns.countplot(x=train[\"label\"],data=train,)\n",
        "plt.xticks(rotation=30)"
      ]
    },
    {
      "cell_type": "code",
      "execution_count": 9,
      "metadata": {
        "colab": {
          "base_uri": "https://localhost:8080/",
          "height": 402
        },
        "id": "IZvWvLtgTi4d",
        "outputId": "2fd24b66-0c13-48dc-c972-9f4deab34138"
      },
      "outputs": [
        {
          "data": {
            "text/html": [
              "<div>\n",
              "<style scoped>\n",
              "    .dataframe tbody tr th:only-of-type {\n",
              "        vertical-align: middle;\n",
              "    }\n",
              "\n",
              "    .dataframe tbody tr th {\n",
              "        vertical-align: top;\n",
              "    }\n",
              "\n",
              "    .dataframe thead th {\n",
              "        text-align: right;\n",
              "    }\n",
              "</style>\n",
              "<table border=\"1\" class=\"dataframe\">\n",
              "  <thead>\n",
              "    <tr style=\"text-align: right;\">\n",
              "      <th></th>\n",
              "      <th>filename</th>\n",
              "      <th>label</th>\n",
              "    </tr>\n",
              "  </thead>\n",
              "  <tbody>\n",
              "    <tr>\n",
              "      <th>0</th>\n",
              "      <td>Image_1.jpg</td>\n",
              "      <td>Density3Benign</td>\n",
              "    </tr>\n",
              "    <tr>\n",
              "      <th>6</th>\n",
              "      <td>Image_7.jpg</td>\n",
              "      <td>Density3Benign</td>\n",
              "    </tr>\n",
              "    <tr>\n",
              "      <th>19</th>\n",
              "      <td>Image_20.jpg</td>\n",
              "      <td>Density3Benign</td>\n",
              "    </tr>\n",
              "    <tr>\n",
              "      <th>24</th>\n",
              "      <td>Image_25.jpg</td>\n",
              "      <td>Density3Benign</td>\n",
              "    </tr>\n",
              "    <tr>\n",
              "      <th>33</th>\n",
              "      <td>Image_34.jpg</td>\n",
              "      <td>Density3Benign</td>\n",
              "    </tr>\n",
              "    <tr>\n",
              "      <th>37</th>\n",
              "      <td>Image_38.jpg</td>\n",
              "      <td>Density3Benign</td>\n",
              "    </tr>\n",
              "    <tr>\n",
              "      <th>38</th>\n",
              "      <td>Image_39.jpg</td>\n",
              "      <td>Density3Benign</td>\n",
              "    </tr>\n",
              "    <tr>\n",
              "      <th>43</th>\n",
              "      <td>Image_44.jpg</td>\n",
              "      <td>Density3Benign</td>\n",
              "    </tr>\n",
              "    <tr>\n",
              "      <th>53</th>\n",
              "      <td>Image_54.jpg</td>\n",
              "      <td>Density3Benign</td>\n",
              "    </tr>\n",
              "  </tbody>\n",
              "</table>\n",
              "</div>"
            ],
            "text/plain": [
              "        filename           label\n",
              "0    Image_1.jpg  Density3Benign\n",
              "6    Image_7.jpg  Density3Benign\n",
              "19  Image_20.jpg  Density3Benign\n",
              "24  Image_25.jpg  Density3Benign\n",
              "33  Image_34.jpg  Density3Benign\n",
              "37  Image_38.jpg  Density3Benign\n",
              "38  Image_39.jpg  Density3Benign\n",
              "43  Image_44.jpg  Density3Benign\n",
              "53  Image_54.jpg  Density3Benign"
            ]
          },
          "execution_count": 9,
          "metadata": {},
          "output_type": "execute_result"
        }
      ],
      "source": [
        "train[train[\"label\"]==\"Density3Benign\"]"
      ]
    },
    {
      "cell_type": "code",
      "execution_count": 10,
      "metadata": {
        "id": "Tb1hkqZcpLvA"
      },
      "outputs": [],
      "source": [
        "def preprocess(image):\n",
        "    kernel = np.array([[0,-1,0], [-1,5,-1], [0,-1,0]])\n",
        "    im = cv2.filter2D(image, -1, kernel)\n",
        "    #out2 = skimage.exposure.rescale_intensity(im, in_range=(150,200), out_range=(0,255))\n",
        "    out1=(cv2.normalize(im, (224,224),0, 255, cv2.NORM_MINMAX))\n",
        "    return out1"
      ]
    },
    {
      "cell_type": "code",
      "execution_count": 11,
      "metadata": {
        "id": "U6ST57D3Mr3r"
      },
      "outputs": [],
      "source": [
        "X_train, X_valid = train_test_split(train, test_size=0.1,stratify=train[\"label\"],shuffle=True)"
      ]
    },
    {
      "cell_type": "code",
      "execution_count": 12,
      "metadata": {
        "colab": {
          "base_uri": "https://localhost:8080/"
        },
        "id": "zadg3bosRya9",
        "outputId": "cca11469-f714-4a61-afd3-c14c1a753800"
      },
      "outputs": [
        {
          "name": "stdout",
          "output_type": "stream",
          "text": [
            "len of training set 49\n",
            "len of validation set 6\n"
          ]
        }
      ],
      "source": [
        "print(\"len of training set\", len(X_train))\n",
        "print(\"len of validation set\", len(X_valid))"
      ]
    },
    {
      "cell_type": "code",
      "execution_count": 13,
      "metadata": {
        "id": "WSk6zmh5NXZv"
      },
      "outputs": [],
      "source": [
        "datagen=ImageDataGenerator(rescale=1./255,preprocessing_function=preprocess)"
      ]
    },
    {
      "cell_type": "code",
      "execution_count": 14,
      "metadata": {
        "colab": {
          "base_uri": "https://localhost:8080/"
        },
        "id": "HgIPTadsNNp7",
        "outputId": "00fe6813-d88a-49f9-dbd5-b351d282c54a"
      },
      "outputs": [
        {
          "name": "stdout",
          "output_type": "stream",
          "text": [
            "Found 49 validated image filenames belonging to 6 classes.\n"
          ]
        }
      ],
      "source": [
        "train_generator=datagen.flow_from_dataframe(\n",
        "dataframe=X_train,\n",
        "directory=\"/Users/Manav/Downloads/mammography_images/mammography_images/train\",\n",
        "x_col=\"filename\",\n",
        "y_col=\"label\",\n",
        "batch_size=32,\n",
        "seed=42,\n",
        "shuffle=True,\n",
        "class_mode=\"categorical\",\n",
        "target_size=(224,224))"
      ]
    },
    {
      "cell_type": "code",
      "execution_count": 15,
      "metadata": {
        "colab": {
          "base_uri": "https://localhost:8080/",
          "height": 425
        },
        "id": "V85HgpY5NVra",
        "outputId": "639b92dc-1e17-459e-87af-2ba2e61be211"
      },
      "outputs": [
        {
          "name": "stderr",
          "output_type": "stream",
          "text": [
            "Clipping input data to the valid range for imshow with RGB data ([0..1] for floats or [0..255] for integers).\n"
          ]
        },
        {
          "name": "stdout",
          "output_type": "stream",
          "text": [
            "(224, 224, 3)\n",
            "(224, 224, 3)\n"
          ]
        },
        {
          "data": {
            "image/png": "[encoded data removed]",
            "text/plain": [
              "<Figure size 600x800 with 1 Axes>"
            ]
          },
          "metadata": {},
          "output_type": "display_data"
        },
        {
          "data": {
            "image/png": "[encoded data removed]",
            "text/plain": [
              "<Figure size 600x800 with 1 Axes>"
            ]
          },
          "metadata": {},
          "output_type": "display_data"
        }
      ],
      "source": [
        "x,y = train_generator.next()\n",
        "for i in range(2):\n",
        "    image = x[i]\n",
        "    plt.figure(figsize=(6,8))\n",
        "    plt.subplot(1,2,i+1)\n",
        "    plt.imshow(image)\n",
        "    print(image.shape)\n",
        "   \n",
        "plt.show()"
      ]
    },
    {
      "cell_type": "code",
      "execution_count": 16,
      "metadata": {
        "colab": {
          "base_uri": "https://localhost:8080/"
        },
        "id": "m1hA3Yh-QIfs",
        "outputId": "2dd542f4-3603-456a-c8fb-7a2bdcd86027"
      },
      "outputs": [
        {
          "name": "stdout",
          "output_type": "stream",
          "text": [
            "Found 6 validated image filenames belonging to 4 classes.\n"
          ]
        }
      ],
      "source": [
        "valid_datagen=ImageDataGenerator(rescale=1./255.,preprocessing_function=preprocess)\n",
        "valid_generator=valid_datagen.flow_from_dataframe( \n",
        "dataframe=X_valid,\n",
        "directory=\"/Users/Manav/Downloads/mammography_images/mammography_images/train\",\n",
        "x_col=\"filename\",\n",
        "y_col=\"label\",\n",
        "batch_size=32,\n",
        "seed=42,\n",
        "shuffle=True,\n",
        "class_mode=\"categorical\",\n",
        "target_size=(224,224))"
      ]
    },
    {
      "cell_type": "code",
      "execution_count": 17,
      "metadata": {
        "id": "OA91e9Q2RmtA"
      },
      "outputs": [],
      "source": [
        "from tensorflow.keras.layers import Dense, Flatten, GlobalAveragePooling2D, BatchNormalization, Dropout,AveragePooling2D\n",
        "from tensorflow.keras.applications.resnet import ResNet50\n",
        "import tensorflow as tf\n",
        "from tensorflow.keras.applications import InceptionV3,DenseNet201,EfficientNetB7, MobileNetV2,Xception,VGG16,NASNetMobile\n",
        "from keras.applications.inception_resnet_v2 import InceptionResNetV2\n",
        "from tensorflow.keras.callbacks import ModelCheckpoint, EarlyStopping, ReduceLROnPlateau\n",
        "from keras.models import Model\n",
        "from keras.models import Sequential\n",
        "from keras.regularizers import *\n",
        "from tensorflow import keras\n",
        "from tensorflow.keras import layers"
      ]
    },
    {
      "cell_type": "code",
      "execution_count": 18,
      "metadata": {
        "id": "bEq2Mh8LR8ke"
      },
      "outputs": [],
      "source": [
        "checkpoint_path = \"training_0/cp.ckpt\"\n",
        "checkpoint_dir = os.path.dirname(checkpoint_path)\n",
        "my_callbacks = [\n",
        "               ModelCheckpoint(checkpoint_path, monitor = 'val_accuracy',verbose = 1,save_weights_only=True, save_best_only = True,mode=\"max\"),\n",
        "               EarlyStopping(monitor='val_loss', patience=5, verbose=0, mode='min'),\n",
        "               ReduceLROnPlateau(monitor='val_loss', factor=0.1, patience=5, verbose=1, mode='min',min_delta=1e-4)\n",
        "]"
      ]
    },
    {
      "cell_type": "code",
      "execution_count": 19,
      "metadata": {
        "id": "9fBfb4I0SCEI"
      },
      "outputs": [],
      "source": [
        "STEP_SIZE_TRAIN=train_generator.n//train_generator.batch_size\n",
        "STEP_SIZE_VALID=valid_generator.n//valid_generator.batch_size"
      ]
    },
    {
      "cell_type": "code",
      "execution_count": 20,
      "metadata": {
        "id": "z1TU-wYfSO1Z"
      },
      "outputs": [],
      "source": [
        "def build_model():\n",
        "  model = Sequential()\n",
        "\n",
        "  conv_base = DenseNet201(input_shape=(224,224,3), include_top=False, pooling='max',weights='imagenet')\n",
        "  model.add(conv_base)  \n",
        "  model.add(BatchNormalization())\n",
        "  model.add(Dense(2048, activation='relu', kernel_regularizer=l1_l2(0.01)))\n",
        "  model.add(BatchNormalization())\n",
        "  model.add(Dense(8, activation='softmax'))\n",
        "\n",
        "  train_layers = [layer for layer in conv_base.layers[::-1][:5]]\n",
        "\n",
        "  for layer in conv_base.layers:\n",
        "    if layer in train_layers:\n",
        "      layer.trainable = True\n",
        "  return model"
      ]
    },
    {
      "cell_type": "code",
      "execution_count": 21,
      "metadata": {
        "colab": {
          "base_uri": "https://localhost:8080/"
        },
        "id": "jpNf7802SclF",
        "outputId": "2d8df0e7-2591-4ae3-fc33-0a4e2108669d"
      },
      "outputs": [],
      "source": [
        "my_model=build_model()"
      ]
    },
    {
      "cell_type": "code",
      "execution_count": 22,
      "metadata": {
        "id": "TI35fmXnSfTF"
      },
      "outputs": [],
      "source": [
        "initial_learning_rate = 0.00001\n",
        "lr_schedule = tf.keras.optimizers.schedules.ExponentialDecay(\n",
        "    initial_learning_rate,\n",
        "    decay_steps=1000,\n",
        "    decay_rate=0.1,\n",
        "    staircase=True)\n",
        "\n",
        "my_model.compile(optimizer=tf.keras.optimizers.Adam(learning_rate=lr_schedule),\n",
        "                 metrics=[\"accuracy\"],\n",
        "                 loss=tf.keras.losses.CategoricalCrossentropy(label_smoothing=0.1))\n"
      ]
    },
    {
      "cell_type": "code",
      "execution_count": 24,
      "metadata": {
        "colab": {
          "base_uri": "https://localhost:8080/"
        },
        "id": "YIFL0K-PSiwV",
        "outputId": "8afcf30f-78fa-4454-8d81-d89f81bdcb3b"
      },
      "outputs": [
        {
          "ename": "InvalidArgumentError",
          "evalue": "Graph execution error:\n\nDetected at node 'categorical_crossentropy/softmax_cross_entropy_with_logits' defined at (most recent call last):\n    File \"c:\\Users\\Manav\\AppData\\Local\\Programs\\Python\\Python310\\lib\\runpy.py\", line 196, in _run_module_as_main\n      return _run_code(code, main_globals, None,\n    File \"c:\\Users\\Manav\\AppData\\Local\\Programs\\Python\\Python310\\lib\\runpy.py\", line 86, in _run_code\n      exec(code, run_globals)\n    File \"C:\\Users\\Manav\\AppData\\Roaming\\Python\\Python310\\site-packages\\ipykernel_launcher.py\", line 17, in <module>\n      app.launch_new_instance()\n    File \"C:\\Users\\Manav\\AppData\\Roaming\\Python\\Python310\\site-packages\\traitlets\\config\\application.py\", line 1043, in launch_instance\n      app.start()\n    File \"C:\\Users\\Manav\\AppData\\Roaming\\Python\\Python310\\site-packages\\ipykernel\\kernelapp.py\", line 725, in start\n      self.io_loop.start()\n    File \"C:\\Users\\Manav\\AppData\\Roaming\\Python\\Python310\\site-packages\\tornado\\platform\\asyncio.py\", line 215, in start\n      self.asyncio_loop.run_forever()\n    File \"c:\\Users\\Manav\\AppData\\Local\\Programs\\Python\\Python310\\lib\\asyncio\\base_events.py\", line 600, in run_forever\n      self._run_once()\n    File \"c:\\Users\\Manav\\AppData\\Local\\Programs\\Python\\Python310\\lib\\asyncio\\base_events.py\", line 1896, in _run_once\n      handle._run()\n    File \"c:\\Users\\Manav\\AppData\\Local\\Programs\\Python\\Python310\\lib\\asyncio\\events.py\", line 80, in _run\n      self._context.run(self._callback, *self._args)\n    File \"C:\\Users\\Manav\\AppData\\Roaming\\Python\\Python310\\site-packages\\ipykernel\\kernelbase.py\", line 513, in dispatch_queue\n      await self.process_one()\n    File \"C:\\Users\\Manav\\AppData\\Roaming\\Python\\Python310\\site-packages\\ipykernel\\kernelbase.py\", line 502, in process_one\n      await dispatch(*args)\n    File \"C:\\Users\\Manav\\AppData\\Roaming\\Python\\Python310\\site-packages\\ipykernel\\kernelbase.py\", line 409, in dispatch_shell\n      await result\n    File \"C:\\Users\\Manav\\AppData\\Roaming\\Python\\Python310\\site-packages\\ipykernel\\kernelbase.py\", line 729, in execute_request\n      reply_content = await reply_content\n    File \"C:\\Users\\Manav\\AppData\\Roaming\\Python\\Python310\\site-packages\\ipykernel\\ipkernel.py\", line 422, in do_execute\n      res = shell.run_cell(\n    File \"C:\\Users\\Manav\\AppData\\Roaming\\Python\\Python310\\site-packages\\ipykernel\\zmqshell.py\", line 540, in run_cell\n      return super().run_cell(*args, **kwargs)\n    File \"C:\\Users\\Manav\\AppData\\Roaming\\Python\\Python310\\site-packages\\IPython\\core\\interactiveshell.py\", line 3006, in run_cell\n      result = self._run_cell(\n    File \"C:\\Users\\Manav\\AppData\\Roaming\\Python\\Python310\\site-packages\\IPython\\core\\interactiveshell.py\", line 3061, in _run_cell\n      result = runner(coro)\n    File \"C:\\Users\\Manav\\AppData\\Roaming\\Python\\Python310\\site-packages\\IPython\\core\\async_helpers.py\", line 129, in _pseudo_sync_runner\n      coro.send(None)\n    File \"C:\\Users\\Manav\\AppData\\Roaming\\Python\\Python310\\site-packages\\IPython\\core\\interactiveshell.py\", line 3266, in run_cell_async\n      has_raised = await self.run_ast_nodes(code_ast.body, cell_name,\n    File \"C:\\Users\\Manav\\AppData\\Roaming\\Python\\Python310\\site-packages\\IPython\\core\\interactiveshell.py\", line 3445, in run_ast_nodes\n      if await self.run_code(code, result, async_=asy):\n    File \"C:\\Users\\Manav\\AppData\\Roaming\\Python\\Python310\\site-packages\\IPython\\core\\interactiveshell.py\", line 3505, in run_code\n      exec(code_obj, self.user_global_ns, self.user_ns)\n    File \"C:\\Users\\Manav\\AppData\\Local\\Temp\\ipykernel_24192\\3850684422.py\", line 1, in <module>\n      my_model.fit(\n    File \"c:\\Users\\Manav\\AppData\\Local\\Programs\\Python\\Python310\\lib\\site-packages\\keras\\utils\\traceback_utils.py\", line 65, in error_handler\n      return fn(*args, **kwargs)\n    File \"c:\\Users\\Manav\\AppData\\Local\\Programs\\Python\\Python310\\lib\\site-packages\\keras\\engine\\training.py\", line 1685, in fit\n      tmp_logs = self.train_function(iterator)\n    File \"c:\\Users\\Manav\\AppData\\Local\\Programs\\Python\\Python310\\lib\\site-packages\\keras\\engine\\training.py\", line 1284, in train_function\n      return step_function(self, iterator)\n    File \"c:\\Users\\Manav\\AppData\\Local\\Programs\\Python\\Python310\\lib\\site-packages\\keras\\engine\\training.py\", line 1268, in step_function\n      outputs = model.distribute_strategy.run(run_step, args=(data,))\n    File \"c:\\Users\\Manav\\AppData\\Local\\Programs\\Python\\Python310\\lib\\site-packages\\keras\\engine\\training.py\", line 1249, in run_step\n      outputs = model.train_step(data)\n    File \"c:\\Users\\Manav\\AppData\\Local\\Programs\\Python\\Python310\\lib\\site-packages\\keras\\engine\\training.py\", line 1051, in train_step\n      loss = self.compute_loss(x, y, y_pred, sample_weight)\n    File \"c:\\Users\\Manav\\AppData\\Local\\Programs\\Python\\Python310\\lib\\site-packages\\keras\\engine\\training.py\", line 1109, in compute_loss\n      return self.compiled_loss(\n    File \"c:\\Users\\Manav\\AppData\\Local\\Programs\\Python\\Python310\\lib\\site-packages\\keras\\engine\\compile_utils.py\", line 265, in __call__\n      loss_value = loss_obj(y_t, y_p, sample_weight=sw)\n    File \"c:\\Users\\Manav\\AppData\\Local\\Programs\\Python\\Python310\\lib\\site-packages\\keras\\losses.py\", line 142, in __call__\n      losses = call_fn(y_true, y_pred)\n    File \"c:\\Users\\Manav\\AppData\\Local\\Programs\\Python\\Python310\\lib\\site-packages\\keras\\losses.py\", line 268, in call\n      return ag_fn(y_true, y_pred, **self._fn_kwargs)\n    File \"c:\\Users\\Manav\\AppData\\Local\\Programs\\Python\\Python310\\lib\\site-packages\\keras\\losses.py\", line 1984, in categorical_crossentropy\n      return backend.categorical_crossentropy(\n    File \"c:\\Users\\Manav\\AppData\\Local\\Programs\\Python\\Python310\\lib\\site-packages\\keras\\backend.py\", line 5565, in categorical_crossentropy\n      return tf.nn.softmax_cross_entropy_with_logits(\nNode: 'categorical_crossentropy/softmax_cross_entropy_with_logits'\nlogits and labels must be broadcastable: logits_size=[32,8] labels_size=[32,6]\n\t [[{{node categorical_crossentropy/softmax_cross_entropy_with_logits}}]] [Op:__inference_train_function_85600]",
          "output_type": "error",
          "traceback": [
            "\u001b[1;31m---------------------------------------------------------------------------\u001b[0m",
            "\u001b[1;31mInvalidArgumentError\u001b[0m                      Traceback (most recent call last)",
            "\u001b[1;32mc:\\Users\\Manav\\Breast-Cancer-Detection\\Demo_Notebook.ipynb Cell 22\u001b[0m line \u001b[0;36m1\n\u001b[1;32m----> <a href='vscode-notebook-cell:/c%3A/Users/Manav/Breast-Cancer-Detection/Demo_Notebook.ipynb#X30sZmlsZQ%3D%3D?line=0'>1</a>\u001b[0m my_model\u001b[39m.\u001b[39;49mfit(\n\u001b[0;32m      <a href='vscode-notebook-cell:/c%3A/Users/Manav/Breast-Cancer-Detection/Demo_Notebook.ipynb#X30sZmlsZQ%3D%3D?line=1'>2</a>\u001b[0m         train_generator,\n\u001b[0;32m      <a href='vscode-notebook-cell:/c%3A/Users/Manav/Breast-Cancer-Detection/Demo_Notebook.ipynb#X30sZmlsZQ%3D%3D?line=2'>3</a>\u001b[0m         steps_per_epoch\u001b[39m=\u001b[39;49mSTEP_SIZE_TRAIN,\n\u001b[0;32m      <a href='vscode-notebook-cell:/c%3A/Users/Manav/Breast-Cancer-Detection/Demo_Notebook.ipynb#X30sZmlsZQ%3D%3D?line=3'>4</a>\u001b[0m         epochs\u001b[39m=\u001b[39;49m\u001b[39m1\u001b[39;49m,\n\u001b[0;32m      <a href='vscode-notebook-cell:/c%3A/Users/Manav/Breast-Cancer-Detection/Demo_Notebook.ipynb#X30sZmlsZQ%3D%3D?line=4'>5</a>\u001b[0m         validation_data\u001b[39m=\u001b[39;49mvalid_generator,\n\u001b[0;32m      <a href='vscode-notebook-cell:/c%3A/Users/Manav/Breast-Cancer-Detection/Demo_Notebook.ipynb#X30sZmlsZQ%3D%3D?line=5'>6</a>\u001b[0m         validation_steps\u001b[39m=\u001b[39;49mSTEP_SIZE_VALID,callbacks\u001b[39m=\u001b[39;49m[my_callbacks])\n",
            "File \u001b[1;32mc:\\Users\\Manav\\AppData\\Local\\Programs\\Python\\Python310\\lib\\site-packages\\keras\\utils\\traceback_utils.py:70\u001b[0m, in \u001b[0;36mfilter_traceback.<locals>.error_handler\u001b[1;34m(*args, **kwargs)\u001b[0m\n\u001b[0;32m     67\u001b[0m     filtered_tb \u001b[39m=\u001b[39m _process_traceback_frames(e\u001b[39m.\u001b[39m__traceback__)\n\u001b[0;32m     68\u001b[0m     \u001b[39m# To get the full stack trace, call:\u001b[39;00m\n\u001b[0;32m     69\u001b[0m     \u001b[39m# `tf.debugging.disable_traceback_filtering()`\u001b[39;00m\n\u001b[1;32m---> 70\u001b[0m     \u001b[39mraise\u001b[39;00m e\u001b[39m.\u001b[39mwith_traceback(filtered_tb) \u001b[39mfrom\u001b[39;00m \u001b[39mNone\u001b[39;00m\n\u001b[0;32m     71\u001b[0m \u001b[39mfinally\u001b[39;00m:\n\u001b[0;32m     72\u001b[0m     \u001b[39mdel\u001b[39;00m filtered_tb\n",
            "File \u001b[1;32mc:\\Users\\Manav\\AppData\\Local\\Programs\\Python\\Python310\\lib\\site-packages\\tensorflow\\python\\eager\\execute.py:52\u001b[0m, in \u001b[0;36mquick_execute\u001b[1;34m(op_name, num_outputs, inputs, attrs, ctx, name)\u001b[0m\n\u001b[0;32m     50\u001b[0m \u001b[39mtry\u001b[39;00m:\n\u001b[0;32m     51\u001b[0m   ctx\u001b[39m.\u001b[39mensure_initialized()\n\u001b[1;32m---> 52\u001b[0m   tensors \u001b[39m=\u001b[39m pywrap_tfe\u001b[39m.\u001b[39mTFE_Py_Execute(ctx\u001b[39m.\u001b[39m_handle, device_name, op_name,\n\u001b[0;32m     53\u001b[0m                                       inputs, attrs, num_outputs)\n\u001b[0;32m     54\u001b[0m \u001b[39mexcept\u001b[39;00m core\u001b[39m.\u001b[39m_NotOkStatusException \u001b[39mas\u001b[39;00m e:\n\u001b[0;32m     55\u001b[0m   \u001b[39mif\u001b[39;00m name \u001b[39mis\u001b[39;00m \u001b[39mnot\u001b[39;00m \u001b[39mNone\u001b[39;00m:\n",
            "\u001b[1;31mInvalidArgumentError\u001b[0m: Graph execution error:\n\nDetected at node 'categorical_crossentropy/softmax_cross_entropy_with_logits' defined at (most recent call last):\n    File \"c:\\Users\\Manav\\AppData\\Local\\Programs\\Python\\Python310\\lib\\runpy.py\", line 196, in _run_module_as_main\n      return _run_code(code, main_globals, None,\n    File \"c:\\Users\\Manav\\AppData\\Local\\Programs\\Python\\Python310\\lib\\runpy.py\", line 86, in _run_code\n      exec(code, run_globals)\n    File \"C:\\Users\\Manav\\AppData\\Roaming\\Python\\Python310\\site-packages\\ipykernel_launcher.py\", line 17, in <module>\n      app.launch_new_instance()\n    File \"C:\\Users\\Manav\\AppData\\Roaming\\Python\\Python310\\site-packages\\traitlets\\config\\application.py\", line 1043, in launch_instance\n      app.start()\n    File \"C:\\Users\\Manav\\AppData\\Roaming\\Python\\Python310\\site-packages\\ipykernel\\kernelapp.py\", line 725, in start\n      self.io_loop.start()\n    File \"C:\\Users\\Manav\\AppData\\Roaming\\Python\\Python310\\site-packages\\tornado\\platform\\asyncio.py\", line 215, in start\n      self.asyncio_loop.run_forever()\n    File \"c:\\Users\\Manav\\AppData\\Local\\Programs\\Python\\Python310\\lib\\asyncio\\base_events.py\", line 600, in run_forever\n      self._run_once()\n    File \"c:\\Users\\Manav\\AppData\\Local\\Programs\\Python\\Python310\\lib\\asyncio\\base_events.py\", line 1896, in _run_once\n      handle._run()\n    File \"c:\\Users\\Manav\\AppData\\Local\\Programs\\Python\\Python310\\lib\\asyncio\\events.py\", line 80, in _run\n      self._context.run(self._callback, *self._args)\n    File \"C:\\Users\\Manav\\AppData\\Roaming\\Python\\Python310\\site-packages\\ipykernel\\kernelbase.py\", line 513, in dispatch_queue\n      await self.process_one()\n    File \"C:\\Users\\Manav\\AppData\\Roaming\\Python\\Python310\\site-packages\\ipykernel\\kernelbase.py\", line 502, in process_one\n      await dispatch(*args)\n    File \"C:\\Users\\Manav\\AppData\\Roaming\\Python\\Python310\\site-packages\\ipykernel\\kernelbase.py\", line 409, in dispatch_shell\n      await result\n    File \"C:\\Users\\Manav\\AppData\\Roaming\\Python\\Python310\\site-packages\\ipykernel\\kernelbase.py\", line 729, in execute_request\n      reply_content = await reply_content\n    File \"C:\\Users\\Manav\\AppData\\Roaming\\Python\\Python310\\site-packages\\ipykernel\\ipkernel.py\", line 422, in do_execute\n      res = shell.run_cell(\n    File \"C:\\Users\\Manav\\AppData\\Roaming\\Python\\Python310\\site-packages\\ipykernel\\zmqshell.py\", line 540, in run_cell\n      return super().run_cell(*args, **kwargs)\n    File \"C:\\Users\\Manav\\AppData\\Roaming\\Python\\Python310\\site-packages\\IPython\\core\\interactiveshell.py\", line 3006, in run_cell\n      result = self._run_cell(\n    File \"C:\\Users\\Manav\\AppData\\Roaming\\Python\\Python310\\site-packages\\IPython\\core\\interactiveshell.py\", line 3061, in _run_cell\n      result = runner(coro)\n    File \"C:\\Users\\Manav\\AppData\\Roaming\\Python\\Python310\\site-packages\\IPython\\core\\async_helpers.py\", line 129, in _pseudo_sync_runner\n      coro.send(None)\n    File \"C:\\Users\\Manav\\AppData\\Roaming\\Python\\Python310\\site-packages\\IPython\\core\\interactiveshell.py\", line 3266, in run_cell_async\n      has_raised = await self.run_ast_nodes(code_ast.body, cell_name,\n    File \"C:\\Users\\Manav\\AppData\\Roaming\\Python\\Python310\\site-packages\\IPython\\core\\interactiveshell.py\", line 3445, in run_ast_nodes\n      if await self.run_code(code, result, async_=asy):\n    File \"C:\\Users\\Manav\\AppData\\Roaming\\Python\\Python310\\site-packages\\IPython\\core\\interactiveshell.py\", line 3505, in run_code\n      exec(code_obj, self.user_global_ns, self.user_ns)\n    File \"C:\\Users\\Manav\\AppData\\Local\\Temp\\ipykernel_24192\\3850684422.py\", line 1, in <module>\n      my_model.fit(\n    File \"c:\\Users\\Manav\\AppData\\Local\\Programs\\Python\\Python310\\lib\\site-packages\\keras\\utils\\traceback_utils.py\", line 65, in error_handler\n      return fn(*args, **kwargs)\n    File \"c:\\Users\\Manav\\AppData\\Local\\Programs\\Python\\Python310\\lib\\site-packages\\keras\\engine\\training.py\", line 1685, in fit\n      tmp_logs = self.train_function(iterator)\n    File \"c:\\Users\\Manav\\AppData\\Local\\Programs\\Python\\Python310\\lib\\site-packages\\keras\\engine\\training.py\", line 1284, in train_function\n      return step_function(self, iterator)\n    File \"c:\\Users\\Manav\\AppData\\Local\\Programs\\Python\\Python310\\lib\\site-packages\\keras\\engine\\training.py\", line 1268, in step_function\n      outputs = model.distribute_strategy.run(run_step, args=(data,))\n    File \"c:\\Users\\Manav\\AppData\\Local\\Programs\\Python\\Python310\\lib\\site-packages\\keras\\engine\\training.py\", line 1249, in run_step\n      outputs = model.train_step(data)\n    File \"c:\\Users\\Manav\\AppData\\Local\\Programs\\Python\\Python310\\lib\\site-packages\\keras\\engine\\training.py\", line 1051, in train_step\n      loss = self.compute_loss(x, y, y_pred, sample_weight)\n    File \"c:\\Users\\Manav\\AppData\\Local\\Programs\\Python\\Python310\\lib\\site-packages\\keras\\engine\\training.py\", line 1109, in compute_loss\n      return self.compiled_loss(\n    File \"c:\\Users\\Manav\\AppData\\Local\\Programs\\Python\\Python310\\lib\\site-packages\\keras\\engine\\compile_utils.py\", line 265, in __call__\n      loss_value = loss_obj(y_t, y_p, sample_weight=sw)\n    File \"c:\\Users\\Manav\\AppData\\Local\\Programs\\Python\\Python310\\lib\\site-packages\\keras\\losses.py\", line 142, in __call__\n      losses = call_fn(y_true, y_pred)\n    File \"c:\\Users\\Manav\\AppData\\Local\\Programs\\Python\\Python310\\lib\\site-packages\\keras\\losses.py\", line 268, in call\n      return ag_fn(y_true, y_pred, **self._fn_kwargs)\n    File \"c:\\Users\\Manav\\AppData\\Local\\Programs\\Python\\Python310\\lib\\site-packages\\keras\\losses.py\", line 1984, in categorical_crossentropy\n      return backend.categorical_crossentropy(\n    File \"c:\\Users\\Manav\\AppData\\Local\\Programs\\Python\\Python310\\lib\\site-packages\\keras\\backend.py\", line 5565, in categorical_crossentropy\n      return tf.nn.softmax_cross_entropy_with_logits(\nNode: 'categorical_crossentropy/softmax_cross_entropy_with_logits'\nlogits and labels must be broadcastable: logits_size=[32,8] labels_size=[32,6]\n\t [[{{node categorical_crossentropy/softmax_cross_entropy_with_logits}}]] [Op:__inference_train_function_85600]"
          ]
        }
      ],
      "source": [
        "my_model.fit(\n",
        "        train_generator,\n",
        "        steps_per_epoch=STEP_SIZE_TRAIN,\n",
        "        epochs=1,\n",
        "        validation_data=valid_generator,\n",
        "        validation_steps=STEP_SIZE_VALID,callbacks=[my_callbacks])"
      ]
    },
    {
      "cell_type": "code",
      "execution_count": null,
      "metadata": {
        "colab": {
          "base_uri": "https://localhost:8080/"
        },
        "id": "mwTjyZZYuC8B",
        "outputId": "a4be8820-7cf4-4d04-84c5-2e74cba3725e"
      },
      "outputs": [
        {
          "name": "stdout",
          "output_type": "stream",
          "text": [
            "18/18 [==============================] - 7s 136ms/step - loss: 0.6230 - accuracy: 1.0000\n"
          ]
        },
        {
          "data": {
            "text/plain": [
              "[0.6186696290969849, 1.0]"
            ]
          },
          "execution_count": 97,
          "metadata": {
            "tags": []
          },
          "output_type": "execute_result"
        }
      ],
      "source": [
        "m.evaluate(valid_generator,verbose=1)"
      ]
    },
    {
      "cell_type": "code",
      "execution_count": null,
      "metadata": {
        "colab": {
          "base_uri": "https://localhost:8080/"
        },
        "id": "_HgBxYOlSlhG",
        "outputId": "6ccb8267-10b1-4cfc-8ba3-f375cf21169b"
      },
      "outputs": [
        {
          "data": {
            "text/plain": [
              "<tensorflow.python.training.tracking.util.CheckpointLoadStatus at 0x7fc97c4ca5d0>"
            ]
          },
          "execution_count": 77,
          "metadata": {
            "tags": []
          },
          "output_type": "execute_result"
        }
      ],
      "source": [
        "my_model.load_weights(checkpoint_path)"
      ]
    },
    {
      "cell_type": "code",
      "execution_count": null,
      "metadata": {
        "colab": {
          "base_uri": "https://localhost:8080/"
        },
        "id": "6w23OzKIT03m",
        "outputId": "499e2678-3812-4589-b247-fc4863636684"
      },
      "outputs": [
        {
          "name": "stdout",
          "output_type": "stream",
          "text": [
            "18/18 [==============================] - 3s 135ms/step - loss: 0.6187 - accuracy: 1.0000\n"
          ]
        },
        {
          "data": {
            "text/plain": [
              "[0.6186696290969849, 1.0]"
            ]
          },
          "execution_count": 78,
          "metadata": {
            "tags": []
          },
          "output_type": "execute_result"
        }
      ],
      "source": [
        "my_model.evaluate(valid_generator,verbose=1)"
      ]
    },
    {
      "cell_type": "code",
      "execution_count": null,
      "metadata": {
        "colab": {
          "base_uri": "https://localhost:8080/"
        },
        "id": "ODaGcA-TT1kV",
        "outputId": "71bac5fe-46ef-449b-a4c9-1763fb765076"
      },
      "outputs": [
        {
          "data": {
            "text/plain": [
              "{'Density1Benign': 0,\n",
              " 'Density1Malignant': 1,\n",
              " 'Density2Benign': 2,\n",
              " 'Density2Malignant': 3,\n",
              " 'Density3Benign': 4,\n",
              " 'Density3Malignant': 5,\n",
              " 'Density4Benign': 6,\n",
              " 'Density4Malignant': 7}"
            ]
          },
          "execution_count": 79,
          "metadata": {
            "tags": []
          },
          "output_type": "execute_result"
        }
      ],
      "source": [
        "train_generator.class_indices"
      ]
    },
    {
      "cell_type": "code",
      "execution_count": 26,
      "metadata": {
        "colab": {
          "base_uri": "https://localhost:8080/"
        },
        "id": "5roV7vhxUaw4",
        "outputId": "7109e40e-c2ac-487f-bc4e-77f03bfb2d6f"
      },
      "outputs": [
        {
          "ename": "NameError",
          "evalue": "name 'valid_datagen' is not defined",
          "output_type": "error",
          "traceback": [
            "\u001b[1;31m---------------------------------------------------------------------------\u001b[0m",
            "\u001b[1;31mNameError\u001b[0m                                 Traceback (most recent call last)",
            "Cell \u001b[1;32mIn[26], line 2\u001b[0m\n\u001b[0;32m      1\u001b[0m test_datagen\u001b[39m=\u001b[39mImageDataGenerator(rescale\u001b[39m=\u001b[39m\u001b[39m1.\u001b[39m\u001b[39m/\u001b[39m\u001b[39m255.\u001b[39m,preprocessing_function\u001b[39m=\u001b[39mpreprocess)\n\u001b[1;32m----> 2\u001b[0m test_generator\u001b[39m=\u001b[39mvalid_datagen\u001b[39m.\u001b[39mflow_from_dataframe(\n\u001b[0;32m      3\u001b[0m dataframe\u001b[39m=\u001b[39mtest,\n\u001b[0;32m      4\u001b[0m directory\u001b[39m=\u001b[39m\u001b[39m\"\u001b[39m\u001b[39m/content/mammography_images/test\u001b[39m\u001b[39m\"\u001b[39m,\n\u001b[0;32m      5\u001b[0m x_col\u001b[39m=\u001b[39m\u001b[39m\"\u001b[39m\u001b[39mfilename\u001b[39m\u001b[39m\"\u001b[39m,\n\u001b[0;32m      6\u001b[0m y_col\u001b[39m=\u001b[39m\u001b[39mNone\u001b[39;00m,\n\u001b[0;32m      7\u001b[0m batch_size\u001b[39m=\u001b[39m\u001b[39m1\u001b[39m,\n\u001b[0;32m      8\u001b[0m seed\u001b[39m=\u001b[39m\u001b[39m42\u001b[39m,\n\u001b[0;32m      9\u001b[0m shuffle\u001b[39m=\u001b[39m\u001b[39mFalse\u001b[39;00m,\n\u001b[0;32m     10\u001b[0m class_mode\u001b[39m=\u001b[39m\u001b[39mNone\u001b[39;00m,\n\u001b[0;32m     11\u001b[0m target_size\u001b[39m=\u001b[39m(\u001b[39m224\u001b[39m,\u001b[39m224\u001b[39m))\n\u001b[0;32m     12\u001b[0m STEP_SIZE_TEST\u001b[39m=\u001b[39mtest_generator\u001b[39m.\u001b[39mn\u001b[39m/\u001b[39m\u001b[39m/\u001b[39mtest_generator\u001b[39m.\u001b[39mbatch_size\n",
            "\u001b[1;31mNameError\u001b[0m: name 'valid_datagen' is not defined"
          ]
        }
      ],
      "source": [
        "test_datagen=ImageDataGenerator(rescale=1./255.,preprocessing_function=preprocess)\n",
        "test_generator=valid_datagen.flow_from_dataframe(\n",
        "dataframe=test,\n",
        "directory=\"/Users/Manav/Downloads/mammography_images/mammography_images/test\",\n",
        "x_col=\"filename\",\n",
        "y_col=None,\n",
        "batch_size=1,\n",
        "seed=42,\n",
        "shuffle=False,\n",
        "class_mode=None,\n",
        "target_size=(224,224))\n",
        "STEP_SIZE_TEST=test_generator.n//test_generator.batch_size"
      ]
    },
    {
      "cell_type": "code",
      "execution_count": null,
      "metadata": {
        "colab": {
          "base_uri": "https://localhost:8080/"
        },
        "id": "1vrIpTUlU0l6",
        "outputId": "5103ff60-2f6e-485e-c0e4-cc2c9d1f5627"
      },
      "outputs": [
        {
          "name": "stdout",
          "output_type": "stream",
          "text": [
            "1908/1908 [==============================] - 44s 23ms/step\n"
          ]
        }
      ],
      "source": [
        "pred1=np.argmax(my_model.predict(test_generator,steps=STEP_SIZE_TEST,verbose=1),axis=1)"
      ]
    },
    {
      "cell_type": "code",
      "execution_count": null,
      "metadata": {
        "colab": {
          "base_uri": "https://localhost:8080/"
        },
        "id": "4UiqOYOrVlw8",
        "outputId": "6bc1446c-048f-46bb-ba71-2dc6377480b6"
      },
      "outputs": [
        {
          "data": {
            "text/plain": [
              "array([4, 0, 3, ..., 3, 3, 3])"
            ]
          },
          "execution_count": 87,
          "metadata": {
            "tags": []
          },
          "output_type": "execute_result"
        }
      ],
      "source": [
        "pred1"
      ]
    },
    {
      "cell_type": "code",
      "execution_count": null,
      "metadata": {
        "id": "62rCGDnMU5HD"
      },
      "outputs": [],
      "source": [
        "sub[\"label\"]=pred1\n",
        "sub[\"label\"]=sub[\"label\"].map({0:'Density1Benign',\n",
        " 1:'Density1Malignant',\n",
        " 2:'Density2Benign',\n",
        " 3:'Density2Malignant',\n",
        " 4: 'Density3Benign',\n",
        " 5: 'Density3Malignant',\n",
        " 6:'Density4Benign',\n",
        " 7:  'Density4Malignant'})"
      ]
    },
    {
      "cell_type": "code",
      "execution_count": null,
      "metadata": {
        "colab": {
          "base_uri": "https://localhost:8080/"
        },
        "id": "e-F3Qhx5VXZ0",
        "outputId": "670bc899-a8d8-4ca5-c457-892ab8a2f451"
      },
      "outputs": [
        {
          "data": {
            "text/plain": [
              "Density2Malignant    576\n",
              "Density1Malignant    540\n",
              "Density3Benign       234\n",
              "Density1Benign       216\n",
              "Density3Malignant    144\n",
              "Density4Benign       108\n",
              "Density2Benign        72\n",
              "Density4Malignant     18\n",
              "Name: label, dtype: int64"
            ]
          },
          "execution_count": 89,
          "metadata": {
            "tags": []
          },
          "output_type": "execute_result"
        }
      ],
      "source": [
        "sub[\"label\"].value_counts()"
      ]
    },
    {
      "cell_type": "code",
      "execution_count": 1,
      "metadata": {
        "id": "xJcK-Np9Vd7V"
      },
      "outputs": [
        {
          "ename": "NameError",
          "evalue": "name 'sub' is not defined",
          "output_type": "error",
          "traceback": [
            "\u001b[1;31m---------------------------------------------------------------------------\u001b[0m",
            "\u001b[1;31mNameError\u001b[0m                                 Traceback (most recent call last)",
            "Cell \u001b[1;32mIn[1], line 1\u001b[0m\n\u001b[1;32m----> 1\u001b[0m sub\u001b[39m.\u001b[39mto_csv(\u001b[39m\"\u001b[39m\u001b[39m9.csv\u001b[39m\u001b[39m\"\u001b[39m,index\u001b[39m=\u001b[39m\u001b[39mFalse\u001b[39;00m)\n",
            "\u001b[1;31mNameError\u001b[0m: name 'sub' is not defined"
          ]
        }
      ],
      "source": [
        "sub.to_csv(\"9.csv\",index=False)"
      ]
    }
  ],
  "metadata": {
    "accelerator": "GPU",
    "colab": {
      "collapsed_sections": [],
      "name": "Demo Notebook.ipynb",
      "provenance": []
    },
    "kernelspec": {
      "display_name": "Python 3",
      "name": "python3"
    },
    "language_info": {
      "codemirror_mode": {
        "name": "ipython",
        "version": 3
      },
      "file_extension": ".py",
      "mimetype": "text/x-python",
      "name": "python",
      "nbconvert_exporter": "python",
      "pygments_lexer": "ipython3",
      "version": "3.10.5"
    }
  },
  "nbformat": 4,
  "nbformat_minor": 0
}
